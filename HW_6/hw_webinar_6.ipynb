{
 "cells": [
  {
   "cell_type": "markdown",
   "metadata": {
    "id": "nMBdGcvjC4Ji"
   },
   "source": [
    "# Вебинар 6. Двухуровневые модели рекомендаций\n"
   ]
  },
  {
   "cell_type": "markdown",
   "metadata": {
    "id": "3Jgaacz0C4Jl"
   },
   "source": [
    "Код для src, utils, metrics вы можете скачать из [этого](https://github.com/geangohn/recsys-tutorial) github репозитория"
   ]
  },
  {
   "cell_type": "code",
   "execution_count": null,
   "metadata": {
    "colab": {
     "base_uri": "https://localhost:8080/"
    },
    "id": "B5pEd3Wo7_nM",
    "outputId": "6940876b-81a4-44dd-8dad-165147e56f51"
   },
   "outputs": [
    {
     "name": "stdout",
     "output_type": "stream",
     "text": [
      "Collecting implicit\n",
      "  Downloading implicit-0.4.8.tar.gz (1.1 MB)\n",
      "\u001b[?25l\r",
      "\u001b[K     |▎                               | 10 kB 18.5 MB/s eta 0:00:01\r",
      "\u001b[K     |▋                               | 20 kB 19.1 MB/s eta 0:00:01\r",
      "\u001b[K     |▉                               | 30 kB 11.8 MB/s eta 0:00:01\r",
      "\u001b[K     |█▏                              | 40 kB 9.4 MB/s eta 0:00:01\r",
      "\u001b[K     |█▍                              | 51 kB 5.3 MB/s eta 0:00:01\r",
      "\u001b[K     |█▊                              | 61 kB 5.8 MB/s eta 0:00:01\r",
      "\u001b[K     |██                              | 71 kB 5.8 MB/s eta 0:00:01\r",
      "\u001b[K     |██▎                             | 81 kB 6.5 MB/s eta 0:00:01\r",
      "\u001b[K     |██▋                             | 92 kB 4.8 MB/s eta 0:00:01\r",
      "\u001b[K     |██▉                             | 102 kB 5.1 MB/s eta 0:00:01\r",
      "\u001b[K     |███▏                            | 112 kB 5.1 MB/s eta 0:00:01\r",
      "\u001b[K     |███▍                            | 122 kB 5.1 MB/s eta 0:00:01\r",
      "\u001b[K     |███▊                            | 133 kB 5.1 MB/s eta 0:00:01\r",
      "\u001b[K     |████                            | 143 kB 5.1 MB/s eta 0:00:01\r",
      "\u001b[K     |████▎                           | 153 kB 5.1 MB/s eta 0:00:01\r",
      "\u001b[K     |████▋                           | 163 kB 5.1 MB/s eta 0:00:01\r",
      "\u001b[K     |████▉                           | 174 kB 5.1 MB/s eta 0:00:01\r",
      "\u001b[K     |█████▏                          | 184 kB 5.1 MB/s eta 0:00:01\r",
      "\u001b[K     |█████▍                          | 194 kB 5.1 MB/s eta 0:00:01\r",
      "\u001b[K     |█████▊                          | 204 kB 5.1 MB/s eta 0:00:01\r",
      "\u001b[K     |██████                          | 215 kB 5.1 MB/s eta 0:00:01\r",
      "\u001b[K     |██████▎                         | 225 kB 5.1 MB/s eta 0:00:01\r",
      "\u001b[K     |██████▋                         | 235 kB 5.1 MB/s eta 0:00:01\r",
      "\u001b[K     |██████▉                         | 245 kB 5.1 MB/s eta 0:00:01\r",
      "\u001b[K     |███████▏                        | 256 kB 5.1 MB/s eta 0:00:01\r",
      "\u001b[K     |███████▌                        | 266 kB 5.1 MB/s eta 0:00:01\r",
      "\u001b[K     |███████▊                        | 276 kB 5.1 MB/s eta 0:00:01\r",
      "\u001b[K     |████████                        | 286 kB 5.1 MB/s eta 0:00:01\r",
      "\u001b[K     |████████▎                       | 296 kB 5.1 MB/s eta 0:00:01\r",
      "\u001b[K     |████████▋                       | 307 kB 5.1 MB/s eta 0:00:01\r",
      "\u001b[K     |████████▉                       | 317 kB 5.1 MB/s eta 0:00:01\r",
      "\u001b[K     |█████████▏                      | 327 kB 5.1 MB/s eta 0:00:01\r",
      "\u001b[K     |█████████▌                      | 337 kB 5.1 MB/s eta 0:00:01\r",
      "\u001b[K     |█████████▊                      | 348 kB 5.1 MB/s eta 0:00:01\r",
      "\u001b[K     |██████████                      | 358 kB 5.1 MB/s eta 0:00:01\r",
      "\u001b[K     |██████████▎                     | 368 kB 5.1 MB/s eta 0:00:01\r",
      "\u001b[K     |██████████▋                     | 378 kB 5.1 MB/s eta 0:00:01\r",
      "\u001b[K     |██████████▉                     | 389 kB 5.1 MB/s eta 0:00:01\r",
      "\u001b[K     |███████████▏                    | 399 kB 5.1 MB/s eta 0:00:01\r",
      "\u001b[K     |███████████▌                    | 409 kB 5.1 MB/s eta 0:00:01\r",
      "\u001b[K     |███████████▊                    | 419 kB 5.1 MB/s eta 0:00:01\r",
      "\u001b[K     |████████████                    | 430 kB 5.1 MB/s eta 0:00:01\r",
      "\u001b[K     |████████████▎                   | 440 kB 5.1 MB/s eta 0:00:01\r",
      "\u001b[K     |████████████▋                   | 450 kB 5.1 MB/s eta 0:00:01\r",
      "\u001b[K     |█████████████                   | 460 kB 5.1 MB/s eta 0:00:01\r",
      "\u001b[K     |█████████████▏                  | 471 kB 5.1 MB/s eta 0:00:01\r",
      "\u001b[K     |█████████████▌                  | 481 kB 5.1 MB/s eta 0:00:01\r",
      "\u001b[K     |█████████████▊                  | 491 kB 5.1 MB/s eta 0:00:01\r",
      "\u001b[K     |██████████████                  | 501 kB 5.1 MB/s eta 0:00:01\r",
      "\u001b[K     |██████████████▎                 | 512 kB 5.1 MB/s eta 0:00:01\r",
      "\u001b[K     |██████████████▋                 | 522 kB 5.1 MB/s eta 0:00:01\r",
      "\u001b[K     |███████████████                 | 532 kB 5.1 MB/s eta 0:00:01\r",
      "\u001b[K     |███████████████▏                | 542 kB 5.1 MB/s eta 0:00:01\r",
      "\u001b[K     |███████████████▌                | 552 kB 5.1 MB/s eta 0:00:01\r",
      "\u001b[K     |███████████████▊                | 563 kB 5.1 MB/s eta 0:00:01\r",
      "\u001b[K     |████████████████                | 573 kB 5.1 MB/s eta 0:00:01\r",
      "\u001b[K     |████████████████▎               | 583 kB 5.1 MB/s eta 0:00:01\r",
      "\u001b[K     |████████████████▋               | 593 kB 5.1 MB/s eta 0:00:01\r",
      "\u001b[K     |█████████████████               | 604 kB 5.1 MB/s eta 0:00:01\r",
      "\u001b[K     |█████████████████▏              | 614 kB 5.1 MB/s eta 0:00:01\r",
      "\u001b[K     |█████████████████▌              | 624 kB 5.1 MB/s eta 0:00:01\r",
      "\u001b[K     |█████████████████▊              | 634 kB 5.1 MB/s eta 0:00:01\r",
      "\u001b[K     |██████████████████              | 645 kB 5.1 MB/s eta 0:00:01\r",
      "\u001b[K     |██████████████████▍             | 655 kB 5.1 MB/s eta 0:00:01\r",
      "\u001b[K     |██████████████████▋             | 665 kB 5.1 MB/s eta 0:00:01\r",
      "\u001b[K     |███████████████████             | 675 kB 5.1 MB/s eta 0:00:01\r",
      "\u001b[K     |███████████████████▏            | 686 kB 5.1 MB/s eta 0:00:01\r",
      "\u001b[K     |███████████████████▌            | 696 kB 5.1 MB/s eta 0:00:01\r",
      "\u001b[K     |███████████████████▊            | 706 kB 5.1 MB/s eta 0:00:01\r",
      "\u001b[K     |████████████████████            | 716 kB 5.1 MB/s eta 0:00:01\r",
      "\u001b[K     |████████████████████▍           | 727 kB 5.1 MB/s eta 0:00:01\r",
      "\u001b[K     |████████████████████▋           | 737 kB 5.1 MB/s eta 0:00:01\r",
      "\u001b[K     |█████████████████████           | 747 kB 5.1 MB/s eta 0:00:01\r",
      "\u001b[K     |█████████████████████▏          | 757 kB 5.1 MB/s eta 0:00:01\r",
      "\u001b[K     |█████████████████████▌          | 768 kB 5.1 MB/s eta 0:00:01\r",
      "\u001b[K     |█████████████████████▊          | 778 kB 5.1 MB/s eta 0:00:01\r",
      "\u001b[K     |██████████████████████          | 788 kB 5.1 MB/s eta 0:00:01\r",
      "\u001b[K     |██████████████████████▍         | 798 kB 5.1 MB/s eta 0:00:01\r",
      "\u001b[K     |██████████████████████▋         | 808 kB 5.1 MB/s eta 0:00:01\r",
      "\u001b[K     |███████████████████████         | 819 kB 5.1 MB/s eta 0:00:01\r",
      "\u001b[K     |███████████████████████▏        | 829 kB 5.1 MB/s eta 0:00:01\r",
      "\u001b[K     |███████████████████████▌        | 839 kB 5.1 MB/s eta 0:00:01\r",
      "\u001b[K     |███████████████████████▉        | 849 kB 5.1 MB/s eta 0:00:01\r",
      "\u001b[K     |████████████████████████        | 860 kB 5.1 MB/s eta 0:00:01\r",
      "\u001b[K     |████████████████████████▍       | 870 kB 5.1 MB/s eta 0:00:01\r",
      "\u001b[K     |████████████████████████▋       | 880 kB 5.1 MB/s eta 0:00:01\r",
      "\u001b[K     |█████████████████████████       | 890 kB 5.1 MB/s eta 0:00:01\r",
      "\u001b[K     |█████████████████████████▏      | 901 kB 5.1 MB/s eta 0:00:01\r",
      "\u001b[K     |█████████████████████████▌      | 911 kB 5.1 MB/s eta 0:00:01\r",
      "\u001b[K     |█████████████████████████▉      | 921 kB 5.1 MB/s eta 0:00:01\r",
      "\u001b[K     |██████████████████████████      | 931 kB 5.1 MB/s eta 0:00:01\r",
      "\u001b[K     |██████████████████████████▍     | 942 kB 5.1 MB/s eta 0:00:01\r",
      "\u001b[K     |██████████████████████████▋     | 952 kB 5.1 MB/s eta 0:00:01\r",
      "\u001b[K     |███████████████████████████     | 962 kB 5.1 MB/s eta 0:00:01\r",
      "\u001b[K     |███████████████████████████▏    | 972 kB 5.1 MB/s eta 0:00:01\r",
      "\u001b[K     |███████████████████████████▌    | 983 kB 5.1 MB/s eta 0:00:01\r",
      "\u001b[K     |███████████████████████████▉    | 993 kB 5.1 MB/s eta 0:00:01\r",
      "\u001b[K     |████████████████████████████    | 1.0 MB 5.1 MB/s eta 0:00:01\r",
      "\u001b[K     |████████████████████████████▍   | 1.0 MB 5.1 MB/s eta 0:00:01\r",
      "\u001b[K     |████████████████████████████▋   | 1.0 MB 5.1 MB/s eta 0:00:01\r",
      "\u001b[K     |█████████████████████████████   | 1.0 MB 5.1 MB/s eta 0:00:01\r",
      "\u001b[K     |█████████████████████████████▎  | 1.0 MB 5.1 MB/s eta 0:00:01\r",
      "\u001b[K     |█████████████████████████████▌  | 1.1 MB 5.1 MB/s eta 0:00:01\r",
      "\u001b[K     |█████████████████████████████▉  | 1.1 MB 5.1 MB/s eta 0:00:01\r",
      "\u001b[K     |██████████████████████████████  | 1.1 MB 5.1 MB/s eta 0:00:01\r",
      "\u001b[K     |██████████████████████████████▍ | 1.1 MB 5.1 MB/s eta 0:00:01\r",
      "\u001b[K     |██████████████████████████████▋ | 1.1 MB 5.1 MB/s eta 0:00:01\r",
      "\u001b[K     |███████████████████████████████ | 1.1 MB 5.1 MB/s eta 0:00:01\r",
      "\u001b[K     |███████████████████████████████▎| 1.1 MB 5.1 MB/s eta 0:00:01\r",
      "\u001b[K     |███████████████████████████████▌| 1.1 MB 5.1 MB/s eta 0:00:01\r",
      "\u001b[K     |███████████████████████████████▉| 1.1 MB 5.1 MB/s eta 0:00:01\r",
      "\u001b[K     |████████████████████████████████| 1.1 MB 5.1 MB/s \n",
      "\u001b[?25h  Installing build dependencies ... \u001b[?25l\u001b[?25hdone\n",
      "  Getting requirements to build wheel ... \u001b[?25l\u001b[?25hdone\n",
      "  Installing backend dependencies ... \u001b[?25l\u001b[?25hdone\n",
      "    Preparing wheel metadata ... \u001b[?25l\u001b[?25hdone\n",
      "Requirement already satisfied: tqdm>=4.27 in /usr/local/lib/python3.7/dist-packages (from implicit) (4.62.3)\n",
      "Requirement already satisfied: scipy>=0.16 in /usr/local/lib/python3.7/dist-packages (from implicit) (1.4.1)\n",
      "Requirement already satisfied: numpy in /usr/local/lib/python3.7/dist-packages (from implicit) (1.19.5)\n",
      "Building wheels for collected packages: implicit\n",
      "  Building wheel for implicit (PEP 517) ... \u001b[?25l\u001b[?25hdone\n",
      "  Created wheel for implicit: filename=implicit-0.4.8-cp37-cp37m-linux_x86_64.whl size=4606596 sha256=a75bfaf546cb8d8e75b5b470ff604de26364ccb63d1e3eeedfdf741c46dcaba3\n",
      "  Stored in directory: /root/.cache/pip/wheels/88/e6/34/25e73cccbaf1a961154bb562a5f86123b68fdbf40e306073d6\n",
      "Successfully built implicit\n",
      "Installing collected packages: implicit\n",
      "Successfully installed implicit-0.4.8\n"
     ]
    }
   ],
   "source": [
    "!pip install implicit"
   ]
  },
  {
   "cell_type": "code",
   "execution_count": 1,
   "metadata": {
    "id": "5Aur99NsC4Jm"
   },
   "outputs": [],
   "source": [
    "import pandas as pd\n",
    "import numpy as np\n",
    "import matplotlib.pyplot as plt\n",
    "%matplotlib inline\n",
    "\n",
    "# Для работы с матрицами\n",
    "from scipy.sparse import csr_matrix\n",
    "\n",
    "# Матричная факторизация\n",
    "from implicit import als\n",
    "\n",
    "# Модель второго уровня\n",
    "from lightgbm import LGBMClassifier\n",
    "\n",
    "import os, sys\n",
    "module_path = os.path.abspath(os.path.join(os.pardir))\n",
    "if module_path not in sys.path:\n",
    "    sys.path.append(module_path)\n",
    "\n",
    "# Написанные нами функции\n",
    "from src.metrics import precision_at_k, recall_at_k\n",
    "from src.utils import prefilter_items, top_items\n",
    "from src.recommenders import MainRecommender"
   ]
  },
  {
   "cell_type": "code",
   "execution_count": 2,
   "metadata": {
    "colab": {
     "base_uri": "https://localhost:8080/",
     "height": 442
    },
    "id": "vso_erSdC4Jo",
    "outputId": "81cbc675-678b-4650-d076-de2e5e1eb4ad"
   },
   "outputs": [
    {
     "data": {
      "text/html": [
       "<div>\n",
       "<style scoped>\n",
       "    .dataframe tbody tr th:only-of-type {\n",
       "        vertical-align: middle;\n",
       "    }\n",
       "\n",
       "    .dataframe tbody tr th {\n",
       "        vertical-align: top;\n",
       "    }\n",
       "\n",
       "    .dataframe thead th {\n",
       "        text-align: right;\n",
       "    }\n",
       "</style>\n",
       "<table border=\"1\" class=\"dataframe\">\n",
       "  <thead>\n",
       "    <tr style=\"text-align: right;\">\n",
       "      <th></th>\n",
       "      <th>user_id</th>\n",
       "      <th>basket_id</th>\n",
       "      <th>day</th>\n",
       "      <th>item_id</th>\n",
       "      <th>quantity</th>\n",
       "      <th>sales_value</th>\n",
       "      <th>store_id</th>\n",
       "      <th>retail_disc</th>\n",
       "      <th>trans_time</th>\n",
       "      <th>week_no</th>\n",
       "      <th>coupon_disc</th>\n",
       "      <th>coupon_match_disc</th>\n",
       "    </tr>\n",
       "  </thead>\n",
       "  <tbody>\n",
       "    <tr>\n",
       "      <th>0</th>\n",
       "      <td>2375</td>\n",
       "      <td>26984851472</td>\n",
       "      <td>1</td>\n",
       "      <td>1004906</td>\n",
       "      <td>1</td>\n",
       "      <td>1.39</td>\n",
       "      <td>364</td>\n",
       "      <td>-0.6</td>\n",
       "      <td>1631</td>\n",
       "      <td>1</td>\n",
       "      <td>0.0</td>\n",
       "      <td>0.0</td>\n",
       "    </tr>\n",
       "    <tr>\n",
       "      <th>1</th>\n",
       "      <td>2375</td>\n",
       "      <td>26984851472</td>\n",
       "      <td>1</td>\n",
       "      <td>1033142</td>\n",
       "      <td>1</td>\n",
       "      <td>0.82</td>\n",
       "      <td>364</td>\n",
       "      <td>0.0</td>\n",
       "      <td>1631</td>\n",
       "      <td>1</td>\n",
       "      <td>0.0</td>\n",
       "      <td>0.0</td>\n",
       "    </tr>\n",
       "  </tbody>\n",
       "</table>\n",
       "</div>"
      ],
      "text/plain": [
       "   user_id    basket_id  day  item_id  quantity  sales_value  store_id  \\\n",
       "0     2375  26984851472    1  1004906         1         1.39       364   \n",
       "1     2375  26984851472    1  1033142         1         0.82       364   \n",
       "\n",
       "   retail_disc  trans_time  week_no  coupon_disc  coupon_match_disc  \n",
       "0         -0.6        1631        1          0.0                0.0  \n",
       "1          0.0        1631        1          0.0                0.0  "
      ]
     },
     "execution_count": 2,
     "metadata": {},
     "output_type": "execute_result"
    }
   ],
   "source": [
    "data = pd.read_csv('retail_train.csv')\n",
    "item_features = pd.read_csv('product.csv')\n",
    "user_features = pd.read_csv('hh_demographic.csv')\n",
    "\n",
    "# column processing\n",
    "item_features.columns = [col.lower() for col in item_features.columns]\n",
    "user_features.columns = [col.lower() for col in user_features.columns]\n",
    "\n",
    "item_features.rename(columns={'product_id': 'item_id'}, inplace=True)\n",
    "user_features.rename(columns={'household_key': 'user_id'}, inplace=True)\n",
    "\n",
    "\n",
    "# Важна схема обучения и валидации!\n",
    "# -- давние покупки -- | -- 6 недель -- | -- 3 недель -- \n",
    "# подобрать размер 2-ого датасета (6 недель) --> learning curve (зависимость метрики recall@k от размера датасета)\n",
    "val_lvl_1_size_weeks = 6\n",
    "val_lvl_2_size_weeks = 3\n",
    "\n",
    "data_train_lvl_1 = data[data['week_no'] < data['week_no'].max() - (val_lvl_1_size_weeks + val_lvl_2_size_weeks)]\n",
    "data_val_lvl_1 = data[(data['week_no'] >= data['week_no'].max() - (val_lvl_1_size_weeks + val_lvl_2_size_weeks)) &\n",
    "                      (data['week_no'] < data['week_no'].max() - (val_lvl_2_size_weeks))]\n",
    "\n",
    "data_train_lvl_2 = data_val_lvl_1.copy()  # Для наглядности. Далее мы добавим изменения, и они будут отличаться\n",
    "data_val_lvl_2 = data[data['week_no'] >= data['week_no'].max() - val_lvl_2_size_weeks]\n",
    "\n",
    "data_train_lvl_1.head(2)"
   ]
  },
  {
   "cell_type": "code",
   "execution_count": 3,
   "metadata": {
    "id": "zcnV3l4XC4Jp",
    "outputId": "d58f889c-0671-4bb9-b2b6-2dc2e8c24fce"
   },
   "outputs": [
    {
     "name": "stdout",
     "output_type": "stream",
     "text": [
      "Decreased # items from 83685 to 5001\n"
     ]
    },
    {
     "name": "stderr",
     "output_type": "stream",
     "text": [
      "C:\\DS_Soft\\Anaconda3\\lib\\site-packages\\pandas\\core\\indexing.py:1720: SettingWithCopyWarning: \n",
      "A value is trying to be set on a copy of a slice from a DataFrame.\n",
      "Try using .loc[row_indexer,col_indexer] = value instead\n",
      "\n",
      "See the caveats in the documentation: https://pandas.pydata.org/pandas-docs/stable/user_guide/indexing.html#returning-a-view-versus-a-copy\n",
      "  self._setitem_single_column(loc, value, pi)\n"
     ]
    }
   ],
   "source": [
    "n_items_before = data_train_lvl_1['item_id'].nunique()\n",
    "\n",
    "data_train_lvl_1 = top_items(data_train_lvl_1, top_num=5000, fictive=-9) # top 5000 товаров\n",
    "\n",
    "n_items_after = data_train_lvl_1['item_id'].nunique()\n",
    "print('Decreased # items from {} to {}'.format(n_items_before, n_items_after))"
   ]
  },
  {
   "cell_type": "code",
   "execution_count": 4,
   "metadata": {
    "colab": {
     "referenced_widgets": [
      "729d4287bb794971802d9da5e141f10a",
      "32375ef613474af6a0fcadb9255eb835"
     ]
    },
    "id": "zgYXRQ0lC4Jq",
    "outputId": "d9ea41ae-3b4d-41b4-fc46-90868ebb9894"
   },
   "outputs": [
    {
     "name": "stderr",
     "output_type": "stream",
     "text": [
      "WARNING:root:Intel MKL BLAS detected. Its highly recommend to set the environment variable 'export MKL_NUM_THREADS=1' to disable its internal multithreading\n"
     ]
    },
    {
     "data": {
      "application/vnd.jupyter.widget-view+json": {
       "model_id": "7c06c12657f943f497619f02b98922f3",
       "version_major": 2,
       "version_minor": 0
      },
      "text/plain": [
       "  0%|          | 0/15 [00:00<?, ?it/s]"
      ]
     },
     "metadata": {},
     "output_type": "display_data"
    },
    {
     "data": {
      "application/vnd.jupyter.widget-view+json": {
       "model_id": "815054c7d77a42f5a503e9c907a1ef31",
       "version_major": 2,
       "version_minor": 0
      },
      "text/plain": [
       "  0%|          | 0/5001 [00:00<?, ?it/s]"
      ]
     },
     "metadata": {},
     "output_type": "display_data"
    }
   ],
   "source": [
    "recommender = MainRecommender(data_train_lvl_1)"
   ]
  },
  {
   "cell_type": "code",
   "execution_count": 5,
   "metadata": {},
   "outputs": [
    {
     "data": {
      "text/plain": [
       "[899624, 923746, 1037863, 845208, 844179]"
      ]
     },
     "execution_count": 5,
     "metadata": {},
     "output_type": "execute_result"
    }
   ],
   "source": [
    "recommender.get_recommendation(2375, N=5)"
   ]
  },
  {
   "cell_type": "code",
   "execution_count": 6,
   "metadata": {},
   "outputs": [
    {
     "data": {
      "text/plain": [
       "[1036501, 1079023, 1085983, 907099, 910439]"
      ]
     },
     "execution_count": 6,
     "metadata": {},
     "output_type": "execute_result"
    }
   ],
   "source": [
    "recommender.get_recommendation(2375, N=5, similar_users=True)"
   ]
  },
  {
   "cell_type": "code",
   "execution_count": 7,
   "metadata": {},
   "outputs": [
    {
     "data": {
      "text/plain": [
       "[868764, 889731, 981760, 1046545, 9527160]"
      ]
     },
     "execution_count": 7,
     "metadata": {},
     "output_type": "execute_result"
    }
   ],
   "source": [
    "recommender.get_similar_items_recommendation(2375, N=5)"
   ]
  },
  {
   "cell_type": "code",
   "execution_count": null,
   "metadata": {
    "id": "GdQO5CWKC4Js",
    "outputId": "08936fbf-715f-412a-9fbe-065816bb6a90"
   },
   "outputs": [
    {
     "data": {
      "text/plain": [
       "[1101502, 979674, 10457044, 974265, 959455]"
      ]
     },
     "execution_count": 8,
     "metadata": {
      "tags": []
     },
     "output_type": "execute_result"
    }
   ],
   "source": [
    "# recommender.get_similar_users_recommendation(2375, N=5)"
   ]
  },
  {
   "cell_type": "code",
   "execution_count": 8,
   "metadata": {},
   "outputs": [
    {
     "data": {
      "text/plain": [
       "[1082212, 5570882, 822677, 888650, 992622]"
      ]
     },
     "execution_count": 8,
     "metadata": {},
     "output_type": "execute_result"
    }
   ],
   "source": [
    "recommender.get_similar_users_recommendation(2375, N=5)"
   ]
  },
  {
   "cell_type": "markdown",
   "metadata": {
    "id": "Bqs9Sw_YC4Jt"
   },
   "source": [
    "### Задание 1\n",
    "\n",
    "A) Попробуйте различные варианты генерации кандидатов. Какие из них дают наибольший recall@k ?\n",
    "- Пока пробуем отобрать 50 кандидатов (k=50)\n",
    "- Качество измеряем на data_val_lvl_1: следующие 6 недель после трейна\n",
    "\n",
    "Дают ли own recommendtions + top-popular лучший recall?  \n",
    "\n",
    "B)* Как зависит recall@k от k? Постройте для одной схемы генерации кандидатов эту зависимость для k = {20, 50, 100, 200, 500}  \n",
    "C)* Исходя из прошлого вопроса, как вы думаете, какое значение k является наиболее разумным?\n"
   ]
  },
  {
   "cell_type": "code",
   "execution_count": 5,
   "metadata": {
    "id": "frt2RzDWC4Jt",
    "outputId": "7c594abf-4a34-406b-9897-8bfbddf69a93"
   },
   "outputs": [
    {
     "data": {
      "text/html": [
       "<div>\n",
       "<style scoped>\n",
       "    .dataframe tbody tr th:only-of-type {\n",
       "        vertical-align: middle;\n",
       "    }\n",
       "\n",
       "    .dataframe tbody tr th {\n",
       "        vertical-align: top;\n",
       "    }\n",
       "\n",
       "    .dataframe thead th {\n",
       "        text-align: right;\n",
       "    }\n",
       "</style>\n",
       "<table border=\"1\" class=\"dataframe\">\n",
       "  <thead>\n",
       "    <tr style=\"text-align: right;\">\n",
       "      <th></th>\n",
       "      <th>user_id</th>\n",
       "      <th>actual</th>\n",
       "    </tr>\n",
       "  </thead>\n",
       "  <tbody>\n",
       "    <tr>\n",
       "      <th>0</th>\n",
       "      <td>1</td>\n",
       "      <td>[853529, 865456, 867607, 872137, 874905, 87524...</td>\n",
       "    </tr>\n",
       "    <tr>\n",
       "      <th>1</th>\n",
       "      <td>2</td>\n",
       "      <td>[15830248, 838136, 839656, 861272, 866211, 870...</td>\n",
       "    </tr>\n",
       "  </tbody>\n",
       "</table>\n",
       "</div>"
      ],
      "text/plain": [
       "   user_id                                             actual\n",
       "0        1  [853529, 865456, 867607, 872137, 874905, 87524...\n",
       "1        2  [15830248, 838136, 839656, 861272, 866211, 870..."
      ]
     },
     "execution_count": 5,
     "metadata": {},
     "output_type": "execute_result"
    }
   ],
   "source": [
    "result_lvl_1 = data_val_lvl_1.groupby('user_id')['item_id'].unique().reset_index()\n",
    "result_lvl_1.columns=['user_id', 'actual']\n",
    "result_lvl_1.head(2)"
   ]
  },
  {
   "cell_type": "code",
   "execution_count": null,
   "metadata": {
    "id": "xM5W4mU4C4Jt"
   },
   "outputs": [],
   "source": [
    "# your_code"
   ]
  },
  {
   "cell_type": "code",
   "execution_count": 8,
   "metadata": {},
   "outputs": [],
   "source": [
    "result_lvl_1.drop(1715, inplace=True)"
   ]
  },
  {
   "cell_type": "code",
   "execution_count": 31,
   "metadata": {
    "scrolled": true
   },
   "outputs": [],
   "source": [
    "result_lvl_1['als'] = result_lvl_1['user_id'].apply(lambda x: recommender.get_recommendation(x, N=50))\n",
    "score = {}\n",
    "score['als_recall'] = result_lvl_1.apply(lambda row: recall_at_k(row['als'], row['actual'], k=50), axis=1).mean()\n",
    "\n",
    "result_lvl_1['own_rec'] = result_lvl_1['user_id'].apply(lambda x: recommender.get_recommendation(x, N=50, similar_users=True))\n",
    "score['own_rec_recall'] = result_lvl_1.apply(lambda row: recall_at_k(row['own_rec'], row['actual'], k=50), axis=1).mean()\n",
    "\n",
    "result_lvl_1['sim_items'] = result_lvl_1['user_id'].apply(lambda x: recommender.get_similar_items_recommendation(x, N=50))\n",
    "score['sim_items_recall'] = result_lvl_1.apply(lambda row: recall_at_k(row['sim_items'], row['actual'], k=50), axis=1).mean()\n",
    "\n",
    "# result_lvl_1['sim_users'] = result_lvl_1['user_id'].apply(lambda x: recommender.get_similar_users_recommendation(x, N=50))\n",
    "# score['sim_users_recall'] = result_lvl_1.apply(lambda row: recall_at_k(row['sim_users'], row['actual'], k=50), axis=1).mean()"
   ]
  },
  {
   "cell_type": "code",
   "execution_count": 32,
   "metadata": {},
   "outputs": [
    {
     "data": {
      "text/plain": [
       "{'als_recall': 0.07839152027059064,\n",
       " 'own_rec_recall': 0.10383473108361768,\n",
       " 'sim_items_recall': 0.06366643371816745}"
      ]
     },
     "execution_count": 32,
     "metadata": {},
     "output_type": "execute_result"
    }
   ],
   "source": [
    "score"
   ]
  },
  {
   "cell_type": "markdown",
   "metadata": {},
   "source": [
    "Да, действительно, у own recommendtions + top-popular лучший recall."
   ]
  },
  {
   "cell_type": "code",
   "execution_count": 28,
   "metadata": {},
   "outputs": [],
   "source": [
    "recall_k = []\n",
    "result_lvl_1['own_500'] = result_lvl_1['user_id'].apply(lambda x: recommender.get_recommendation(x, N=500, similar_users=True))\n",
    "for k in [20, 50, 100, 200, 500]:\n",
    "    recall_k.append(result_lvl_1.apply(lambda row: recall_at_k(row['own_500'], row['actual'], k=k), axis=1).mean())"
   ]
  },
  {
   "cell_type": "code",
   "execution_count": 27,
   "metadata": {},
   "outputs": [
    {
     "data": {
      "text/plain": [
       "[0.06442443346048478,\n",
       " 0.10383473108361768,\n",
       " 0.15323105771763387,\n",
       " 0.23012301154335943,\n",
       " 0.3424887249818663]"
      ]
     },
     "execution_count": 27,
     "metadata": {},
     "output_type": "execute_result"
    }
   ],
   "source": [
    "recall_k"
   ]
  },
  {
   "cell_type": "code",
   "execution_count": 30,
   "metadata": {},
   "outputs": [
    {
     "data": {
      "image/png": "[encoded data removed]",
      "text/plain": [
       "<Figure size 432x288 with 1 Axes>"
      ]
     },
     "metadata": {
      "needs_background": "light"
     },
     "output_type": "display_data"
    }
   ],
   "source": [
    "plt.plot([20, 50, 100, 200, 500], recall_k)\n",
    "plt.show()"
   ]
  },
  {
   "cell_type": "markdown",
   "metadata": {},
   "source": [
    "Полнота, растёт с k, что логично, так как чем больше мы порекомендуем товаров к покупке, тем больше шансов, что мы угадаем, что покупателю интересно. Однако, не можем же мы порекомендовать 500 товаров! Хотя и стоня выглядит не очень разумным числом."
   ]
  },
  {
   "cell_type": "markdown",
   "metadata": {
    "id": "bAHJu3Z5C4Ju"
   },
   "source": [
    "### Задание 2.\n",
    "\n",
    "Обучите модель 2-ого уровня, при этом:\n",
    "    - Добавьте минимум по 2 фичи для юзера, товара и пары юзер-товар\n",
    "    - Измерьте отдельно precision@5 модели 1-ого уровня и двухуровневой модели на data_val_lvl_2\n",
    "    - Вырос ли precision@5 при использовании двухуровневой модели?"
   ]
  },
  {
   "cell_type": "code",
   "execution_count": null,
   "metadata": {
    "id": "XZQcrch7C4Ju"
   },
   "outputs": [],
   "source": [
    "# your_code"
   ]
  },
  {
   "cell_type": "markdown",
   "metadata": {
    "id": "AKKJcgF5L2_V"
   },
   "source": [
    "# Задание 3\n",
    "\n",
    "\n",
    "X_val подготовить из data_val_lvl_2 также как и X_train из targets_lvl_2\n",
    "val_preds = lgb.predict(X_val) #, где X_val - датасет подготовленный по аналогии с data_train_lvl_2\n",
    "\n",
    "Далее оценить на валидационном множестве precision\n",
    "\n",
    "Сравнить с трейном (у меня было 0.78782)"
   ]
  },
  {
   "cell_type": "code",
   "execution_count": null,
   "metadata": {
    "id": "7jOCBd3eL-3e"
   },
   "outputs": [],
   "source": [
    "# your_code"
   ]
  },
  {
   "cell_type": "code",
   "execution_count": null,
   "metadata": {
    "id": "QedNDpUpL34m"
   },
   "outputs": [],
   "source": [
    "def precision_at_k(recommended_list, bought_list, k=5):\n",
    "    \n",
    "    bought_list = np.array(bought_list)\n",
    "    recommended_list = np.array(recommended_list)\n",
    "    \n",
    "    bought_list = bought_list  # Тут нет [:k] !!\n",
    "    try:\n",
    "        recommended_list = recommended_list[:k]\n",
    "    except:\n",
    "        recommended_list = []\n",
    "    \n",
    "    flags = np.isin(bought_list, recommended_list)\n",
    "    \n",
    "    precision = flags.sum() / len(recommended_list)\n",
    "    \n",
    "    \n",
    "    return precision"
   ]
  },
  {
   "cell_type": "code",
   "execution_count": null,
   "metadata": {
    "id": "GzRgfP6OL618"
   },
   "outputs": [],
   "source": [
    "train_data_result = X_train[X_train['y_true']>0].groupby('user_id')['item_id'].agg(list).reset_index()\n",
    "preds = X_train[X_train['preds']>0].groupby('user_id')['item_id'].agg(list).reset_index()\n",
    "train_data_result.rename(columns={'item_id':'actual'}, inplace = True)\n",
    "train_data_result = train_data_result.merge(preds, how='left', on='user_id')\n",
    "train_data_result.rename(columns={'item_id':'lightGBM'}, inplace = True)"
   ]
  },
  {
   "cell_type": "code",
   "execution_count": null,
   "metadata": {
    "id": "HUUVbWvtL8k3"
   },
   "outputs": [],
   "source": [
    "train_data_result.apply(lambda row: precision_at_k(row['lightGBM'], row['actual']), axis=1).mean()"
   ]
  },
  {
   "cell_type": "markdown",
   "metadata": {
    "id": "9FLlIq15C4Ju"
   },
   "source": [
    "### Финальный проект\n",
    "\n",
    "Мы уже прошли всю необходимуб теорию для финального проекта. Проект осуществляется на данных из вебинара (данные считаны в начале ДЗ).\n",
    "Рекомендуем вам **начать делать проект сразу после этого домашнего задания**\n",
    "- Целевая метрика - precision@5. Порог для уcпешной сдачи проекта precision@5 > 25%\n",
    "- Будет public тестовый датасет, на котором вы сможете измерять метрику\n",
    "- Также будет private тестовый датасет для измерения финального качества\n",
    "- НЕ обязательно, но крайне желательно использовать 2-ух уровневые рекоммендательные системы в проекте\n",
    "- Вы сдаете код проекта в виде github репозитория и csv файл с рекомендациями "
   ]
  }
 ],
 "metadata": {
  "colab": {
   "collapsed_sections": [],
   "name": "hw_webinar_6.ipynb",
   "provenance": []
  },
  "kernelspec": {
   "display_name": "Python 3",
   "language": "python",
   "name": "python3"
  },
  "language_info": {
   "codemirror_mode": {
    "name": "ipython",
    "version": 3
   },
   "file_extension": ".py",
   "mimetype": "text/x-python",
   "name": "python",
   "nbconvert_exporter": "python",
   "pygments_lexer": "ipython3",
   "version": "3.8.8"
  }
 },
 "nbformat": 4,
 "nbformat_minor": 1
}
