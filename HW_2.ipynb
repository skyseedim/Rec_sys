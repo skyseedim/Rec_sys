{
 "cells": [
  {
   "cell_type": "markdown",
   "id": "88d7a1a5",
   "metadata": {},
   "source": [
    "## Практические задания к лекции 2"
   ]
  },
  {
   "cell_type": "code",
   "execution_count": null,
   "id": "11604fd2",
   "metadata": {},
   "outputs": [],
   "source": []
  }
 ],
 "metadata": {
  "kernelspec": {
   "display_name": "Python 3",
   "language": "python",
   "name": "python3"
  },
  "language_info": {
   "codemirror_mode": {
    "name": "ipython",
    "version": 3
   },
   "file_extension": ".py",
   "mimetype": "text/x-python",
   "name": "python",
   "nbconvert_exporter": "python",
   "pygments_lexer": "ipython3",
   "version": "3.8.8"
  }
 },
 "nbformat": 4,
 "nbformat_minor": 5
}
